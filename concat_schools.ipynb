{
 "cells": [
  {
   "cell_type": "markdown",
   "metadata": {},
   "source": [
    "# Process to create a master list of SFUSD elementary schools including district codes, state codes, and addresses\n",
    "\n",
    "## Table of Contents\n",
    "<ul>\n",
    "<li><a href=\"#intro\">Introduction</a></li>\n",
    "<li><a href=\"#wrangling\">Data Wrangling</a></li>\n",
    "<li><a href=\"#master\">Master List</a></li>\n",
    "</ul>\n"
   ]
  },
  {
   "cell_type": "markdown",
   "metadata": {},
   "source": [
    "# <a id='intro'></a>\n",
    "## Introduction"
   ]
  },
  {
   "cell_type": "raw",
   "metadata": {},
   "source": [
    "4,611 children entered the 2017-2018 San Francisco Unified School District kindergarten lottery. Parents can select multiple schools, and they made more than 45,000 unique choices. \n",
    "This Jupyter Noteboook prepares the master schools list to be used in the analysis of the SFUSD Lottery data. "
   ]
  },
  {
   "cell_type": "code",
   "execution_count": 1,
   "metadata": {
    "collapsed": true
   },
   "outputs": [],
   "source": [
    "# Importing packages and functions\n",
    "import pandas as pd\n",
    "import numpy as np\n",
    "import csv"
   ]
  },
  {
   "cell_type": "code",
   "execution_count": 2,
   "metadata": {
    "collapsed": false
   },
   "outputs": [],
   "source": [
    "#file 1\n",
    "sfusd_cds= pd.read_csv('./data/codes/sfusd_cds_codes.csv')\n",
    "#http://web.sfusd.edu/Services/research_public/rpadc_lib/SFUSD%20CDS%20Codes%20SchYr2012-13_(08-20-12).pdf\n",
    "\n",
    "#file2\n",
    "sfdata_addresses_cds= pd.read_csv('./data/codes/schools_concise.csv')\n",
    "#https://data.sfgov.org/Economy-and-Community/Schools/tpp3-epx2/data\n",
    "\n",
    "#file3\n",
    "caaspp_cds_district= pd.read_csv('./data/codes/sfusd_district_cds_codes_clean.csv')\n",
    "#http://caaspp.edsource.org/\n",
    "#https://www2.cde.ca.gov/dataresourceguide/\n",
    "#https://caaspp.cde.ca.gov/sb2018/ResearchFileListCAA?ps=true&lstCounty=38&lstDistrict=68478-000&lstSchool=&lstCntyNam=San%20Francisco&lstDistNam=San%20Francisco%20Unified&lstTestYear=2018&lstTestType=A&rf=true"
   ]
  },
  {
   "cell_type": "markdown",
   "metadata": {},
   "source": [
    "# <a id='wrangling'></a>\n",
    "## Data Wrangling"
   ]
  },
  {
   "cell_type": "code",
   "execution_count": 3,
   "metadata": {
    "collapsed": false
   },
   "outputs": [],
   "source": [
    "#clean up column names\n",
    "sfusd_cds.columns = [x.strip().replace('-', '_') for x in sfusd_cds.columns]\n",
    "sfusd_cds.rename(columns={'cds_cd' : 'cds_code'}, inplace=True)\n",
    "\n",
    "sfdata_addresses_cds.columns = [x.lower() for x in sfdata_addresses_cds.columns]\n",
    "sfdata_addresses_cds.columns = [x.strip().replace(' ', '_') for x in sfdata_addresses_cds.columns]\n",
    "sfdata_addresses_cds.rename(columns={'campus_name' : 'school_name'}, inplace=True)\n",
    "\n",
    "caaspp_cds_district.rename(columns={'state_code' : 'cds_code'}, inplace=True)"
   ]
  },
  {
   "cell_type": "code",
   "execution_count": 4,
   "metadata": {
    "collapsed": false
   },
   "outputs": [
    {
     "name": "stderr",
     "output_type": "stream",
     "text": [
      "/Users/Irene/anaconda/lib/python3.6/site-packages/ipykernel/__main__.py:2: FutureWarning: convert_objects is deprecated.  To re-infer data dtypes for object columns, use DataFrame.infer_objects()\n",
      "For all other conversions use the data-type specific converters pd.to_datetime, pd.to_timedelta and pd.to_numeric.\n",
      "  from ipykernel import kernelapp as app\n",
      "/Users/Irene/anaconda/lib/python3.6/site-packages/ipykernel/__main__.py:3: FutureWarning: convert_objects is deprecated.  To re-infer data dtypes for object columns, use DataFrame.infer_objects()\n",
      "For all other conversions use the data-type specific converters pd.to_datetime, pd.to_timedelta and pd.to_numeric.\n",
      "  app.launch_new_instance()\n",
      "/Users/Irene/anaconda/lib/python3.6/site-packages/ipykernel/__main__.py:4: FutureWarning: convert_objects is deprecated.  To re-infer data dtypes for object columns, use DataFrame.infer_objects()\n",
      "For all other conversions use the data-type specific converters pd.to_datetime, pd.to_timedelta and pd.to_numeric.\n"
     ]
    }
   ],
   "source": [
    "#convert data types\n",
    "sfusd_cds = sfusd_cds.convert_objects(convert_numeric=True)\n",
    "sfdata_addresses_cds = sfdata_addresses_cds.convert_objects(convert_numeric=True)\n",
    "caaspp_cds_district = caaspp_cds_district.convert_objects(convert_numeric=True)"
   ]
  },
  {
   "cell_type": "code",
   "execution_count": 5,
   "metadata": {
    "collapsed": true
   },
   "outputs": [],
   "source": [
    "sfusd_cds['cds_code'] = sfusd_cds['cds_code'].fillna(0).astype(int)\n",
    "sfusd_cds['cds_code'] = sfusd_cds['cds_code'].astype(np.int64)"
   ]
  },
  {
   "cell_type": "code",
   "execution_count": 6,
   "metadata": {
    "collapsed": false
   },
   "outputs": [
    {
     "data": {
      "text/plain": [
       "school_name    object\n",
       "cds_code        int64\n",
       "dtype: object"
      ]
     },
     "execution_count": 6,
     "metadata": {},
     "output_type": "execute_result"
    }
   ],
   "source": [
    "sfusd_cds.dtypes"
   ]
  },
  {
   "cell_type": "code",
   "execution_count": 7,
   "metadata": {
    "collapsed": false
   },
   "outputs": [
    {
     "data": {
      "text/plain": [
       "school_name       object\n",
       "campus_address    object\n",
       "zipcode            int64\n",
       "cds_code           int64\n",
       "dtype: object"
      ]
     },
     "execution_count": 7,
     "metadata": {},
     "output_type": "execute_result"
    }
   ],
   "source": [
    "sfdata_addresses_cds.dtypes"
   ]
  },
  {
   "cell_type": "raw",
   "metadata": {},
   "source": [
    "sfdata_addresses_cds['cds_code'] = sfdata_addresses_cds['cds_code'].fillna(0).astype(int)\n",
    "sfdata_addresses_cds['cds_code'] = sfdata_addresses_cds['cds_code'].astype(np.int64)\n",
    "#school_addresses_cds.options.display.float_format = '{:,.0f}'.format\n",
    "#sfusd_cds_district_codes.options.display.float_format = '{:,.0f}'.format\n",
    "#pd.astype(int)\n",
    "#https://stackoverflow.com/questions/11548005/numpy-or-pandas-keeping-array-type-as-integer-while-having-a-nan-value"
   ]
  },
  {
   "cell_type": "code",
   "execution_count": 8,
   "metadata": {
    "collapsed": false
   },
   "outputs": [
    {
     "data": {
      "text/plain": [
       "school_name       object\n",
       "campus_address    object\n",
       "zipcode            int64\n",
       "cds_code           int64\n",
       "dtype: object"
      ]
     },
     "execution_count": 8,
     "metadata": {},
     "output_type": "execute_result"
    }
   ],
   "source": [
    "sfdata_addresses_cds.dtypes"
   ]
  },
  {
   "cell_type": "code",
   "execution_count": 9,
   "metadata": {
    "collapsed": false
   },
   "outputs": [
    {
     "data": {
      "text/plain": [
       "school_name      object\n",
       "district_code     int64\n",
       "cds_code          int64\n",
       "dtype: object"
      ]
     },
     "execution_count": 9,
     "metadata": {},
     "output_type": "execute_result"
    }
   ],
   "source": [
    "caaspp_cds_district.dtypes"
   ]
  },
  {
   "cell_type": "code",
   "execution_count": 10,
   "metadata": {
    "collapsed": false
   },
   "outputs": [
    {
     "name": "stdout",
     "output_type": "stream",
     "text": [
      "['school_name', 'cds_code']\n",
      "['school_name', 'campus_address', 'zipcode', 'cds_code']\n",
      "['school_name', 'district_code', 'cds_code']\n"
     ]
    }
   ],
   "source": [
    "cols_file1 = list(sfusd_cds.columns.values)\n",
    "cols_file2 = list(sfdata_addresses_cds.columns.values)\n",
    "cols_file3 = list(caaspp_cds_district.columns.values)\n",
    "print(cols_file1)\n",
    "print(cols_file2)\n",
    "print(cols_file3)"
   ]
  },
  {
   "cell_type": "code",
   "execution_count": 11,
   "metadata": {
    "collapsed": false
   },
   "outputs": [
    {
     "data": {
      "text/html": [
       "<div>\n",
       "<style scoped>\n",
       "    .dataframe tbody tr th:only-of-type {\n",
       "        vertical-align: middle;\n",
       "    }\n",
       "\n",
       "    .dataframe tbody tr th {\n",
       "        vertical-align: top;\n",
       "    }\n",
       "\n",
       "    .dataframe thead th {\n",
       "        text-align: right;\n",
       "    }\n",
       "</style>\n",
       "<table border=\"1\" class=\"dataframe\">\n",
       "  <thead>\n",
       "    <tr style=\"text-align: right;\">\n",
       "      <th></th>\n",
       "      <th>school_name</th>\n",
       "      <th>cds_code</th>\n",
       "    </tr>\n",
       "  </thead>\n",
       "  <tbody>\n",
       "    <tr>\n",
       "      <th>0</th>\n",
       "      <td>Alamo Elementary School, GE</td>\n",
       "      <td>6040695</td>\n",
       "    </tr>\n",
       "    <tr>\n",
       "      <th>1</th>\n",
       "      <td>Alvarado Elementary School (Spanish Immersion)</td>\n",
       "      <td>6040703</td>\n",
       "    </tr>\n",
       "    <tr>\n",
       "      <th>2</th>\n",
       "      <td>Alvarado Elementary School, GE</td>\n",
       "      <td>6040703</td>\n",
       "    </tr>\n",
       "    <tr>\n",
       "      <th>3</th>\n",
       "      <td>Argonne Elementary School, GE</td>\n",
       "      <td>6040737</td>\n",
       "    </tr>\n",
       "    <tr>\n",
       "      <th>4</th>\n",
       "      <td>Bryant Elementary School, GE</td>\n",
       "      <td>6040778</td>\n",
       "    </tr>\n",
       "  </tbody>\n",
       "</table>\n",
       "</div>"
      ],
      "text/plain": [
       "                                      school_name  cds_code\n",
       "0                     Alamo Elementary School, GE   6040695\n",
       "1  Alvarado Elementary School (Spanish Immersion)   6040703\n",
       "2                  Alvarado Elementary School, GE   6040703\n",
       "3                   Argonne Elementary School, GE   6040737\n",
       "4                    Bryant Elementary School, GE   6040778"
      ]
     },
     "execution_count": 11,
     "metadata": {},
     "output_type": "execute_result"
    }
   ],
   "source": [
    "sfusd_cds.head()"
   ]
  },
  {
   "cell_type": "code",
   "execution_count": 12,
   "metadata": {
    "collapsed": false
   },
   "outputs": [
    {
     "data": {
      "text/html": [
       "<div>\n",
       "<style scoped>\n",
       "    .dataframe tbody tr th:only-of-type {\n",
       "        vertical-align: middle;\n",
       "    }\n",
       "\n",
       "    .dataframe tbody tr th {\n",
       "        vertical-align: top;\n",
       "    }\n",
       "\n",
       "    .dataframe thead th {\n",
       "        text-align: right;\n",
       "    }\n",
       "</style>\n",
       "<table border=\"1\" class=\"dataframe\">\n",
       "  <thead>\n",
       "    <tr style=\"text-align: right;\">\n",
       "      <th></th>\n",
       "      <th>school_name</th>\n",
       "      <th>campus_address</th>\n",
       "      <th>zipcode</th>\n",
       "      <th>cds_code</th>\n",
       "    </tr>\n",
       "  </thead>\n",
       "  <tbody>\n",
       "    <tr>\n",
       "      <th>0</th>\n",
       "      <td>Carmichael, Bessie Carmichael K-5 Campus / Ear...</td>\n",
       "      <td>375 07TH ST</td>\n",
       "      <td>94103</td>\n",
       "      <td>384001456</td>\n",
       "    </tr>\n",
       "    <tr>\n",
       "      <th>1</th>\n",
       "      <td>Feinstein, Dianne Feinstein Elementary School</td>\n",
       "      <td>2550 25TH AVE</td>\n",
       "      <td>94116</td>\n",
       "      <td>111427</td>\n",
       "    </tr>\n",
       "    <tr>\n",
       "      <th>2</th>\n",
       "      <td>Stockton, Commodore Stockton Early Education S...</td>\n",
       "      <td>1 TRENTON ST</td>\n",
       "      <td>94108</td>\n",
       "      <td>117465</td>\n",
       "    </tr>\n",
       "    <tr>\n",
       "      <th>3</th>\n",
       "      <td>Noriega Early Education School</td>\n",
       "      <td>1775 44TH AVE</td>\n",
       "      <td>94122</td>\n",
       "      <td>117473</td>\n",
       "    </tr>\n",
       "    <tr>\n",
       "      <th>4</th>\n",
       "      <td>San Miguel Early Education School</td>\n",
       "      <td>300 SENECA AVE</td>\n",
       "      <td>94112</td>\n",
       "      <td>117481</td>\n",
       "    </tr>\n",
       "  </tbody>\n",
       "</table>\n",
       "</div>"
      ],
      "text/plain": [
       "                                         school_name  campus_address  zipcode  \\\n",
       "0  Carmichael, Bessie Carmichael K-5 Campus / Ear...     375 07TH ST    94103   \n",
       "1      Feinstein, Dianne Feinstein Elementary School   2550 25TH AVE    94116   \n",
       "2  Stockton, Commodore Stockton Early Education S...    1 TRENTON ST    94108   \n",
       "3                     Noriega Early Education School   1775 44TH AVE    94122   \n",
       "4                  San Miguel Early Education School  300 SENECA AVE    94112   \n",
       "\n",
       "    cds_code  \n",
       "0  384001456  \n",
       "1     111427  \n",
       "2     117465  \n",
       "3     117473  \n",
       "4     117481  "
      ]
     },
     "execution_count": 12,
     "metadata": {},
     "output_type": "execute_result"
    }
   ],
   "source": [
    "sfdata_addresses_cds.head()"
   ]
  },
  {
   "cell_type": "code",
   "execution_count": 13,
   "metadata": {
    "collapsed": false
   },
   "outputs": [
    {
     "data": {
      "text/html": [
       "<div>\n",
       "<style scoped>\n",
       "    .dataframe tbody tr th:only-of-type {\n",
       "        vertical-align: middle;\n",
       "    }\n",
       "\n",
       "    .dataframe tbody tr th {\n",
       "        vertical-align: top;\n",
       "    }\n",
       "\n",
       "    .dataframe thead th {\n",
       "        text-align: right;\n",
       "    }\n",
       "</style>\n",
       "<table border=\"1\" class=\"dataframe\">\n",
       "  <thead>\n",
       "    <tr style=\"text-align: right;\">\n",
       "      <th></th>\n",
       "      <th>school_name</th>\n",
       "      <th>campus_address</th>\n",
       "      <th>zipcode</th>\n",
       "      <th>cds_code</th>\n",
       "    </tr>\n",
       "  </thead>\n",
       "  <tbody>\n",
       "    <tr>\n",
       "      <th>0</th>\n",
       "      <td>Carmichael, Bessie Carmichael K-5 Campus / Ear...</td>\n",
       "      <td>375 07TH ST</td>\n",
       "      <td>94103</td>\n",
       "      <td>384001456</td>\n",
       "    </tr>\n",
       "    <tr>\n",
       "      <th>1</th>\n",
       "      <td>Feinstein, Dianne Feinstein Elementary School</td>\n",
       "      <td>2550 25TH AVE</td>\n",
       "      <td>94116</td>\n",
       "      <td>111427</td>\n",
       "    </tr>\n",
       "    <tr>\n",
       "      <th>2</th>\n",
       "      <td>Stockton, Commodore Stockton Early Education S...</td>\n",
       "      <td>1 TRENTON ST</td>\n",
       "      <td>94108</td>\n",
       "      <td>117465</td>\n",
       "    </tr>\n",
       "    <tr>\n",
       "      <th>3</th>\n",
       "      <td>Noriega Early Education School</td>\n",
       "      <td>1775 44TH AVE</td>\n",
       "      <td>94122</td>\n",
       "      <td>117473</td>\n",
       "    </tr>\n",
       "    <tr>\n",
       "      <th>4</th>\n",
       "      <td>San Miguel Early Education School</td>\n",
       "      <td>300 SENECA AVE</td>\n",
       "      <td>94112</td>\n",
       "      <td>117481</td>\n",
       "    </tr>\n",
       "  </tbody>\n",
       "</table>\n",
       "</div>"
      ],
      "text/plain": [
       "                                         school_name  campus_address  zipcode  \\\n",
       "0  Carmichael, Bessie Carmichael K-5 Campus / Ear...     375 07TH ST    94103   \n",
       "1      Feinstein, Dianne Feinstein Elementary School   2550 25TH AVE    94116   \n",
       "2  Stockton, Commodore Stockton Early Education S...    1 TRENTON ST    94108   \n",
       "3                     Noriega Early Education School   1775 44TH AVE    94122   \n",
       "4                  San Miguel Early Education School  300 SENECA AVE    94112   \n",
       "\n",
       "    cds_code  \n",
       "0  384001456  \n",
       "1     111427  \n",
       "2     117465  \n",
       "3     117473  \n",
       "4     117481  "
      ]
     },
     "execution_count": 13,
     "metadata": {},
     "output_type": "execute_result"
    }
   ],
   "source": [
    "sfdata_addresses_cds.head()"
   ]
  },
  {
   "cell_type": "code",
   "execution_count": 14,
   "metadata": {
    "collapsed": false
   },
   "outputs": [
    {
     "data": {
      "text/html": [
       "<div>\n",
       "<style scoped>\n",
       "    .dataframe tbody tr th:only-of-type {\n",
       "        vertical-align: middle;\n",
       "    }\n",
       "\n",
       "    .dataframe tbody tr th {\n",
       "        vertical-align: top;\n",
       "    }\n",
       "\n",
       "    .dataframe thead th {\n",
       "        text-align: right;\n",
       "    }\n",
       "</style>\n",
       "<table border=\"1\" class=\"dataframe\">\n",
       "  <thead>\n",
       "    <tr style=\"text-align: right;\">\n",
       "      <th></th>\n",
       "      <th>school_name</th>\n",
       "      <th>district_code</th>\n",
       "      <th>cds_code</th>\n",
       "    </tr>\n",
       "  </thead>\n",
       "  <tbody>\n",
       "    <tr>\n",
       "      <th>0</th>\n",
       "      <td>Alamo ES</td>\n",
       "      <td>413</td>\n",
       "      <td>6040695</td>\n",
       "    </tr>\n",
       "    <tr>\n",
       "      <th>1</th>\n",
       "      <td>Alvarado ES</td>\n",
       "      <td>420</td>\n",
       "      <td>6040703</td>\n",
       "    </tr>\n",
       "    <tr>\n",
       "      <th>2</th>\n",
       "      <td>Argonne ES</td>\n",
       "      <td>435</td>\n",
       "      <td>6040737</td>\n",
       "    </tr>\n",
       "    <tr>\n",
       "      <th>3</th>\n",
       "      <td>Bryant ES</td>\n",
       "      <td>456</td>\n",
       "      <td>6040778</td>\n",
       "    </tr>\n",
       "    <tr>\n",
       "      <th>4</th>\n",
       "      <td>Carver ES</td>\n",
       "      <td>625</td>\n",
       "      <td>6093496</td>\n",
       "    </tr>\n",
       "  </tbody>\n",
       "</table>\n",
       "</div>"
      ],
      "text/plain": [
       "   school_name  district_code  cds_code\n",
       "0     Alamo ES            413   6040695\n",
       "1  Alvarado ES            420   6040703\n",
       "2   Argonne ES            435   6040737\n",
       "3    Bryant ES            456   6040778\n",
       "4    Carver ES            625   6093496"
      ]
     },
     "execution_count": 14,
     "metadata": {},
     "output_type": "execute_result"
    }
   ],
   "source": [
    "caaspp_cds_district.head()"
   ]
  },
  {
   "cell_type": "markdown",
   "metadata": {},
   "source": [
    "# <a id='master'></a>\n",
    "## Getting the Master List"
   ]
  },
  {
   "cell_type": "code",
   "execution_count": 15,
   "metadata": {
    "collapsed": false
   },
   "outputs": [],
   "source": [
    "df = pd.merge(sfusd_cds, caaspp_cds_district, on='cds_code', how='outer')"
   ]
  },
  {
   "cell_type": "code",
   "execution_count": 16,
   "metadata": {
    "collapsed": false
   },
   "outputs": [
    {
     "data": {
      "text/html": [
       "<div>\n",
       "<style scoped>\n",
       "    .dataframe tbody tr th:only-of-type {\n",
       "        vertical-align: middle;\n",
       "    }\n",
       "\n",
       "    .dataframe tbody tr th {\n",
       "        vertical-align: top;\n",
       "    }\n",
       "\n",
       "    .dataframe thead th {\n",
       "        text-align: right;\n",
       "    }\n",
       "</style>\n",
       "<table border=\"1\" class=\"dataframe\">\n",
       "  <thead>\n",
       "    <tr style=\"text-align: right;\">\n",
       "      <th></th>\n",
       "      <th>school_name_x</th>\n",
       "      <th>cds_code</th>\n",
       "      <th>school_name_y</th>\n",
       "      <th>district_code</th>\n",
       "    </tr>\n",
       "  </thead>\n",
       "  <tbody>\n",
       "    <tr>\n",
       "      <th>0</th>\n",
       "      <td>Alamo Elementary School, GE</td>\n",
       "      <td>6040695</td>\n",
       "      <td>Alamo ES</td>\n",
       "      <td>413.0</td>\n",
       "    </tr>\n",
       "    <tr>\n",
       "      <th>1</th>\n",
       "      <td>Alvarado Elementary School (Spanish Immersion)</td>\n",
       "      <td>6040703</td>\n",
       "      <td>Alvarado ES</td>\n",
       "      <td>420.0</td>\n",
       "    </tr>\n",
       "    <tr>\n",
       "      <th>2</th>\n",
       "      <td>Alvarado Elementary School, GE</td>\n",
       "      <td>6040703</td>\n",
       "      <td>Alvarado ES</td>\n",
       "      <td>420.0</td>\n",
       "    </tr>\n",
       "    <tr>\n",
       "      <th>3</th>\n",
       "      <td>Argonne Elementary School, GE</td>\n",
       "      <td>6040737</td>\n",
       "      <td>Argonne ES</td>\n",
       "      <td>435.0</td>\n",
       "    </tr>\n",
       "    <tr>\n",
       "      <th>4</th>\n",
       "      <td>Bryant Elementary School, GE</td>\n",
       "      <td>6040778</td>\n",
       "      <td>Bryant ES</td>\n",
       "      <td>456.0</td>\n",
       "    </tr>\n",
       "  </tbody>\n",
       "</table>\n",
       "</div>"
      ],
      "text/plain": [
       "                                    school_name_x  cds_code school_name_y  \\\n",
       "0                     Alamo Elementary School, GE   6040695      Alamo ES   \n",
       "1  Alvarado Elementary School (Spanish Immersion)   6040703   Alvarado ES   \n",
       "2                  Alvarado Elementary School, GE   6040703   Alvarado ES   \n",
       "3                   Argonne Elementary School, GE   6040737    Argonne ES   \n",
       "4                    Bryant Elementary School, GE   6040778     Bryant ES   \n",
       "\n",
       "   district_code  \n",
       "0          413.0  \n",
       "1          420.0  \n",
       "2          420.0  \n",
       "3          435.0  \n",
       "4          456.0  "
      ]
     },
     "execution_count": 16,
     "metadata": {},
     "output_type": "execute_result"
    }
   ],
   "source": [
    "df.head()"
   ]
  },
  {
   "cell_type": "code",
   "execution_count": 17,
   "metadata": {
    "collapsed": true
   },
   "outputs": [],
   "source": [
    "df.rename(columns={'school_name_x' : 'school_name_sfusd_cds_codes', 'school_name_y' : 'school_name_caaspp_cds_district_codes'}, inplace=True)"
   ]
  },
  {
   "cell_type": "code",
   "execution_count": 18,
   "metadata": {
    "collapsed": true
   },
   "outputs": [],
   "source": [
    "df_big = pd.merge(caaspp_cds_district, sfdata_addresses_cds, on='cds_code', how='outer')"
   ]
  },
  {
   "cell_type": "code",
   "execution_count": 19,
   "metadata": {
    "collapsed": false
   },
   "outputs": [
    {
     "data": {
      "text/html": [
       "<div>\n",
       "<style scoped>\n",
       "    .dataframe tbody tr th:only-of-type {\n",
       "        vertical-align: middle;\n",
       "    }\n",
       "\n",
       "    .dataframe tbody tr th {\n",
       "        vertical-align: top;\n",
       "    }\n",
       "\n",
       "    .dataframe thead th {\n",
       "        text-align: right;\n",
       "    }\n",
       "</style>\n",
       "<table border=\"1\" class=\"dataframe\">\n",
       "  <thead>\n",
       "    <tr style=\"text-align: right;\">\n",
       "      <th></th>\n",
       "      <th>school_name_x</th>\n",
       "      <th>district_code</th>\n",
       "      <th>cds_code</th>\n",
       "      <th>school_name_y</th>\n",
       "      <th>campus_address</th>\n",
       "      <th>zipcode</th>\n",
       "    </tr>\n",
       "  </thead>\n",
       "  <tbody>\n",
       "    <tr>\n",
       "      <th>0</th>\n",
       "      <td>Alamo ES</td>\n",
       "      <td>413.0</td>\n",
       "      <td>6040695</td>\n",
       "      <td>Alamo Elementary School</td>\n",
       "      <td>250 23RD AVE</td>\n",
       "      <td>94121.0</td>\n",
       "    </tr>\n",
       "    <tr>\n",
       "      <th>1</th>\n",
       "      <td>Alvarado ES</td>\n",
       "      <td>420.0</td>\n",
       "      <td>6040703</td>\n",
       "      <td>Alvarado Elementary School</td>\n",
       "      <td>625 DOUGLASS ST</td>\n",
       "      <td>94114.0</td>\n",
       "    </tr>\n",
       "    <tr>\n",
       "      <th>2</th>\n",
       "      <td>Argonne ES</td>\n",
       "      <td>435.0</td>\n",
       "      <td>6040737</td>\n",
       "      <td>Argonne Elementary School</td>\n",
       "      <td>680 18TH AVE</td>\n",
       "      <td>94121.0</td>\n",
       "    </tr>\n",
       "    <tr>\n",
       "      <th>3</th>\n",
       "      <td>Bryant ES</td>\n",
       "      <td>456.0</td>\n",
       "      <td>6040778</td>\n",
       "      <td>Bryant Early Education / Bryant Elementary</td>\n",
       "      <td>2641 25TH ST</td>\n",
       "      <td>94110.0</td>\n",
       "    </tr>\n",
       "    <tr>\n",
       "      <th>4</th>\n",
       "      <td>Carver ES</td>\n",
       "      <td>625.0</td>\n",
       "      <td>6093496</td>\n",
       "      <td>Carver, Dr. George Washington Carver Elementar...</td>\n",
       "      <td>1360 OAKDALE AVE</td>\n",
       "      <td>94124.0</td>\n",
       "    </tr>\n",
       "  </tbody>\n",
       "</table>\n",
       "</div>"
      ],
      "text/plain": [
       "  school_name_x  district_code  cds_code  \\\n",
       "0      Alamo ES          413.0   6040695   \n",
       "1   Alvarado ES          420.0   6040703   \n",
       "2    Argonne ES          435.0   6040737   \n",
       "3     Bryant ES          456.0   6040778   \n",
       "4     Carver ES          625.0   6093496   \n",
       "\n",
       "                                       school_name_y    campus_address  \\\n",
       "0                            Alamo Elementary School      250 23RD AVE   \n",
       "1                         Alvarado Elementary School   625 DOUGLASS ST   \n",
       "2                          Argonne Elementary School      680 18TH AVE   \n",
       "3         Bryant Early Education / Bryant Elementary      2641 25TH ST   \n",
       "4  Carver, Dr. George Washington Carver Elementar...  1360 OAKDALE AVE   \n",
       "\n",
       "   zipcode  \n",
       "0  94121.0  \n",
       "1  94114.0  \n",
       "2  94121.0  \n",
       "3  94110.0  \n",
       "4  94124.0  "
      ]
     },
     "execution_count": 19,
     "metadata": {},
     "output_type": "execute_result"
    }
   ],
   "source": [
    "df_big.head()"
   ]
  },
  {
   "cell_type": "code",
   "execution_count": 20,
   "metadata": {
    "collapsed": false
   },
   "outputs": [
    {
     "name": "stderr",
     "output_type": "stream",
     "text": [
      "/Users/Irene/anaconda/lib/python3.6/site-packages/ipykernel/__main__.py:2: FutureWarning: convert_objects is deprecated.  To re-infer data dtypes for object columns, use DataFrame.infer_objects()\n",
      "For all other conversions use the data-type specific converters pd.to_datetime, pd.to_timedelta and pd.to_numeric.\n",
      "  from ipykernel import kernelapp as app\n"
     ]
    }
   ],
   "source": [
    "#convert data types\n",
    "df_big = df_big.convert_objects(convert_numeric=True)"
   ]
  },
  {
   "cell_type": "code",
   "execution_count": 21,
   "metadata": {
    "collapsed": false
   },
   "outputs": [
    {
     "data": {
      "text/plain": [
       "school_name_x      object\n",
       "district_code     float64\n",
       "cds_code            int64\n",
       "school_name_y      object\n",
       "campus_address     object\n",
       "zipcode           float64\n",
       "dtype: object"
      ]
     },
     "execution_count": 21,
     "metadata": {},
     "output_type": "execute_result"
    }
   ],
   "source": [
    "df_big.dtypes"
   ]
  },
  {
   "cell_type": "code",
   "execution_count": 22,
   "metadata": {
    "collapsed": false
   },
   "outputs": [],
   "source": [
    "df_big['zipcode'] = df_big['zipcode'].fillna(0).astype(int)\n",
    "df_big['zipcode'] = df_big['zipcode'].astype(np.int64)"
   ]
  },
  {
   "cell_type": "code",
   "execution_count": 23,
   "metadata": {
    "collapsed": true
   },
   "outputs": [],
   "source": [
    "df_big['district_code'] = df_big['district_code'].fillna(0).astype(int)\n",
    "df_big['district_code'] = df_big['district_code'].astype(np.int64)"
   ]
  },
  {
   "cell_type": "code",
   "execution_count": 24,
   "metadata": {
    "collapsed": false
   },
   "outputs": [
    {
     "data": {
      "text/plain": [
       "school_name_x     object\n",
       "district_code      int64\n",
       "cds_code           int64\n",
       "school_name_y     object\n",
       "campus_address    object\n",
       "zipcode            int64\n",
       "dtype: object"
      ]
     },
     "execution_count": 24,
     "metadata": {},
     "output_type": "execute_result"
    }
   ],
   "source": [
    "df_big.dtypes"
   ]
  },
  {
   "cell_type": "code",
   "execution_count": 25,
   "metadata": {
    "collapsed": true
   },
   "outputs": [],
   "source": [
    "#export to csv\n",
    "df_big.to_csv('./data/exports/master_schools_list.csv')"
   ]
  },
  {
   "cell_type": "code",
   "execution_count": null,
   "metadata": {
    "collapsed": true
   },
   "outputs": [],
   "source": [
    "import pdfkit\n",
    "pdfkit.from_file('concat_schools.html', 'concat_schools.pdf')"
   ]
  },
  {
   "cell_type": "code",
   "execution_count": null,
   "metadata": {
    "collapsed": true
   },
   "outputs": [],
   "source": []
  }
 ],
 "metadata": {
  "kernelspec": {
   "display_name": "Python 3",
   "language": "python",
   "name": "python3"
  },
  "language_info": {
   "codemirror_mode": {
    "name": "ipython",
    "version": 3
   },
   "file_extension": ".py",
   "mimetype": "text/x-python",
   "name": "python",
   "nbconvert_exporter": "python",
   "pygments_lexer": "ipython3",
   "version": "3.6.0"
  }
 },
 "nbformat": 4,
 "nbformat_minor": 2
}
